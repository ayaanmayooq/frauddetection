{
 "cells": [
  {
   "cell_type": "code",
   "id": "initial_id",
   "metadata": {
    "collapsed": true,
    "ExecuteTime": {
     "end_time": "2024-11-28T19:28:23.162272900Z",
     "start_time": "2024-11-28T19:28:23.153486100Z"
    }
   },
   "source": [
    "import os\n",
    "import pandas as pd\n",
    "import matplotlib.pyplot as plt\n",
    "from sklearn.metrics import roc_curve, auc, confusion_matrix, classification_report, roc_auc_score, accuracy_score\n",
    "import seaborn as sns\n",
    "\n",
    "sns.set(style=\"darkgrid\")\n"
   ],
   "outputs": [],
   "execution_count": 18
  },
  {
   "metadata": {
    "ExecuteTime": {
     "end_time": "2024-11-28T19:54:58.475424300Z",
     "start_time": "2024-11-28T19:54:58.469084500Z"
    }
   },
   "cell_type": "code",
   "source": [
    "def compute_metrics(y_true, y_pred):\n",
    "    # ROC Curve and AUC\n",
    "    # fpr, tpr, _ = roc_curve(y_true, y_pred)\n",
    "    tn, fp, fn, tp = confusion_matrix(y_true, y_pred).ravel()\n",
    "    \n",
    "    fpr = fp / (fp + tn) if (fp + tn) > 0 else 0\n",
    "    tpr = tp / (tp + fn) if (tp + fn) > 0 else 0\n",
    "\n",
    "    roc_auc = roc_auc_score(y_true, y_pred)\n",
    "\n",
    "    # Confusion Matrix\n",
    "    cm = confusion_matrix(y_true, y_pred)\n",
    "    fnr = cm[1][0] / (cm[1][0] + cm[1][1])  # False Negative Rate\n",
    "    precision = cm[1][1] / (cm[1][1] + cm[0][1]) if (cm[1][1] + cm[0][1]) != 0 else 0\n",
    "    recall = cm[1][1] / (cm[1][1] + cm[1][0])\n",
    "    \n",
    "    return {\n",
    "        \"roc_auc\": roc_auc,\n",
    "        \"fnr\": fnr,\n",
    "        \"precision\": precision,\n",
    "        \"recall\": recall,\n",
    "        \"fpr\": fpr,\n",
    "        \"tpr\": tpr,\n",
    "    }\n"
   ],
   "id": "24a12b301ad8a81b",
   "outputs": [],
   "execution_count": 59
  },
  {
   "metadata": {
    "ExecuteTime": {
     "end_time": "2024-11-28T19:54:58.692167800Z",
     "start_time": "2024-11-28T19:54:58.677088800Z"
    }
   },
   "cell_type": "code",
   "source": [
    "def plot_confusion_matrix(cm, model_name):\n",
    "    plt.figure(figsize=(6, 6))\n",
    "    sns.heatmap(cm, annot=True, fmt=\"d\", cmap=\"Blues\", cbar=False, square=True)\n",
    "    plt.xlabel(\"Predicted Label\")\n",
    "    plt.ylabel(\"True Label\")\n",
    "    plt.title(f\"Confusion Matrix: {model_name}\")\n",
    "    plt.savefig(f\"plots/{model_name}_confusion_matrix.png\")\n",
    "    plt.close()\n",
    "\n"
   ],
   "id": "24cd21f20ae80d3",
   "outputs": [],
   "execution_count": 60
  },
  {
   "metadata": {
    "ExecuteTime": {
     "end_time": "2024-11-28T19:54:58.844360100Z",
     "start_time": "2024-11-28T19:54:58.824578700Z"
    }
   },
   "cell_type": "code",
   "source": [
    "def plot_roc_curve(fpr, tpr, roc_auc, model_name):\n",
    "    plt.figure()\n",
    "    plt.plot(fpr, tpr, label=f\"ROC Curve (AUC = {roc_auc:.2f})\")\n",
    "    plt.plot([0, 1], [0, 1], \"k--\", label=\"Random Guess\")\n",
    "    plt.xlabel(\"False Positive Rate\")\n",
    "    plt.ylabel(\"True Positive Rate\")\n",
    "    plt.title(f\"ROC Curve for {model_name}\")\n",
    "    plt.legend(loc=\"lower right\")\n",
    "    plt.savefig(f\"plots/{model_name}_roc_curve.png\")\n",
    "    plt.close()\n"
   ],
   "id": "da50811d97fbe425",
   "outputs": [],
   "execution_count": 61
  },
  {
   "metadata": {
    "ExecuteTime": {
     "end_time": "2024-11-28T19:54:58.982508900Z",
     "start_time": "2024-11-28T19:54:58.971829400Z"
    }
   },
   "cell_type": "code",
   "source": [
    "def plot_model_comparison(metrics_df, metric_x=\"fpr\", metric_y=\"roc_auc\"):\n",
    "    plt.figure(figsize=(8, 6))\n",
    "    for _, row in metrics_df.iterrows():\n",
    "        plt.scatter(row[metric_x], row[metric_y], label=row[\"model\"], s=100)\n",
    "        plt.text(row[metric_x], row[metric_y], row[\"model\"], fontsize=9, ha=\"right\")\n",
    "    plt.xlabel(metric_x.upper())\n",
    "    plt.ylabel(metric_y.upper())\n",
    "    plt.title(f\"Model Comparison: {metric_x.upper()} vs {metric_y.upper()}\")\n",
    "    plt.grid(True, linestyle=\"--\", alpha=0.7)\n",
    "    plt.tight_layout()\n",
    "    plt.savefig(\"plots/model_comparison_scatter.png\")\n",
    "    plt.close()\n",
    "    print(\"Model comparison scatter plot saved!\")\n"
   ],
   "id": "f91bb0b46cbe8958",
   "outputs": [],
   "execution_count": 62
  },
  {
   "metadata": {
    "ExecuteTime": {
     "end_time": "2024-11-28T20:29:24.067376700Z",
     "start_time": "2024-11-28T20:29:24.047473700Z"
    }
   },
   "cell_type": "code",
   "source": [
    "def generate_plots_and_metrics(prediction_folder=\"artifacts/predictions\"):\n",
    "    model_metrics = []\n",
    "\n",
    "    # Iterate over prediction files\n",
    "    for file in os.listdir(prediction_folder):\n",
    "        if file.endswith(\".csv\"):\n",
    "            model_name = file.replace(\"_predictions.csv\", \"\")\n",
    "            print(f\"Processing predictions for: {model_name}\")\n",
    "\n",
    "            # Load predictions\n",
    "            predictions = pd.read_csv(os.path.join(prediction_folder, file))\n",
    "            y_true = predictions[\"y_true\"]\n",
    "            y_pred = predictions[\"y_pred\"]\n",
    "\n",
    "            # Compute metrics\n",
    "            metrics = compute_metrics(y_true, y_pred)\n",
    "            metrics[\"model\"] = model_name\n",
    "            model_metrics.append(metrics)\n",
    "\n",
    "            # Plot ROC Curve\n",
    "            plot_roc_curve(metrics[\"fpr\"], metrics[\"tpr\"], metrics[\"roc_auc\"], model_name)\n",
    "\n",
    "            # Plot Confusion Matrix\n",
    "            cm = confusion_matrix(y_true, y_pred)\n",
    "            plot_confusion_matrix(cm, model_name)\n",
    "\n",
    "    # Create scatter plot for model comparison\n",
    "    metrics_df = pd.DataFrame(model_metrics)\n",
    "    plot_model_comparison(metrics_df, metric_x=\"fnr\", metric_y=\"roc_auc\")\n",
    "    \n",
    "    return metrics_df\n"
   ],
   "id": "bbd8fce68d5c207a",
   "outputs": [],
   "execution_count": 80
  },
  {
   "metadata": {
    "ExecuteTime": {
     "end_time": "2024-11-28T20:29:27.103745800Z",
     "start_time": "2024-11-28T20:29:24.738605900Z"
    }
   },
   "cell_type": "code",
   "source": [
    "metrics_df = generate_plots_and_metrics()"
   ],
   "id": "c5972071cb48752b",
   "outputs": [
    {
     "name": "stdout",
     "output_type": "stream",
     "text": [
      "Processing predictions for: dense_nn\n",
      "Processing predictions for: dense_nn_SMOTE\n",
      "Processing predictions for: lightgbm_bce\n",
      "Processing predictions for: light_nn\n",
      "Processing predictions for: light_nn_SMOTE\n",
      "Processing predictions for: logistic_regression\n",
      "Processing predictions for: random_forest\n",
      "Model comparison scatter plot saved!\n"
     ]
    }
   ],
   "execution_count": 81
  },
  {
   "cell_type": "code",
   "outputs": [
    {
     "name": "stdout",
     "output_type": "stream",
     "text": [
      "+---+--------------------+----------------------+-----------------------+--------------------+-----------------------+--------------------+---------------------+\n",
      "|   |      roc_auc       |         fnr          |       precision       |       recall       |          fpr          |        tpr         |        model        |\n",
      "+---+--------------------+----------------------+-----------------------+--------------------+-----------------------+--------------------+---------------------+\n",
      "| 0 |        0.5         |         1.0          |          0.0          |        0.0         |          0.0          |        0.0         |      dense_nn       |\n",
      "| 1 | 0.5762475057530141 | 0.043478260869565216 | 0.0019208521598672865 | 0.9565217391304348 |  0.8040267276244065   | 0.9565217391304348 |   dense_nn_SMOTE    |\n",
      "| 2 | 0.9595236284268865 | 0.07079646017699115  |  0.12696493349455865  | 0.9292035398230089 | 0.010156282969235746  | 0.9292035398230089 |    lightgbm_bce     |\n",
      "| 3 | 0.4067883655323736 | 0.20652173913043478  | 0.0013082437275985664 | 0.7934782608695652 |   0.979901529804818   | 0.7934782608695652 |      light_nn       |\n",
      "| 4 | 0.3251888364767853 |  0.358695652173913   | 0.0010458582241681881 | 0.6413043478260869 |  0.9909266748725163   | 0.6413043478260869 |   light_nn_SMOTE    |\n",
      "| 5 | 0.820581838059342  |  0.358695652173913   |  0.8805970149253731   | 0.6413043478260869 | 0.0001406717074028486 | 0.6413043478260869 | logistic_regression |\n",
      "| 6 | 0.8695300494644537 |  0.2608695652173913  |  0.9444444444444444   | 0.7391304347826086 | 7.03358537014243e-05  | 0.7391304347826086 |    random_forest    |\n",
      "+---+--------------------+----------------------+-----------------------+--------------------+-----------------------+--------------------+---------------------+\n"
     ]
    }
   ],
   "source": [
    "from tabulate import tabulate\n",
    "\n",
    "print(tabulate(metrics_df, headers=\"keys\", tablefmt=\"pretty\"))\n"
   ],
   "metadata": {
    "collapsed": false,
    "ExecuteTime": {
     "end_time": "2024-11-28T20:18:54.894451300Z",
     "start_time": "2024-11-28T20:18:54.867989Z"
    }
   },
   "id": "38a1786a7792c3e8",
   "execution_count": 77
  },
  {
   "cell_type": "code",
   "outputs": [
    {
     "name": "stdout",
     "output_type": "stream",
     "text": [
      "Table saved as plots/model_evaluation_metrics.png\n"
     ]
    }
   ],
   "source": [
    "def save_table_as_image(df, output_file=\"table.png\"):\n",
    "    fig, ax = plt.subplots(figsize=(8, len(df) * 0.5))  # Adjust size based on the number of rows\n",
    "    ax.axis(\"tight\")\n",
    "    ax.axis(\"off\")\n",
    "    table = ax.table(\n",
    "        cellText=df.values,\n",
    "        colLabels=df.columns,\n",
    "        cellLoc=\"center\",\n",
    "        loc=\"center\"\n",
    "    )\n",
    "    table.auto_set_font_size(False)\n",
    "    table.set_fontsize(10)\n",
    "    table.auto_set_column_width(col=list(range(len(df.columns))))\n",
    "    # plt.show()\n",
    "    plt.savefig(output_file, bbox_inches=\"tight\")\n",
    "    plt.close()\n",
    "    print(f\"Table saved as {output_file}\")\n",
    "\n",
    "# Example usage\n",
    "save_table_as_image(metrics_df, \"plots/model_evaluation_metrics.png\")"
   ],
   "metadata": {
    "collapsed": false,
    "ExecuteTime": {
     "end_time": "2024-11-28T20:18:55.633738600Z",
     "start_time": "2024-11-28T20:18:55.061193500Z"
    }
   },
   "id": "f3cc91e84332ee44",
   "execution_count": 78
  },
  {
   "cell_type": "code",
   "outputs": [],
   "source": [],
   "metadata": {
    "collapsed": false
   },
   "id": "cfa55d2a37a16214"
  }
 ],
 "metadata": {
  "kernelspec": {
   "display_name": "Python 3",
   "language": "python",
   "name": "python3"
  },
  "language_info": {
   "codemirror_mode": {
    "name": "ipython",
    "version": 2
   },
   "file_extension": ".py",
   "mimetype": "text/x-python",
   "name": "python",
   "nbconvert_exporter": "python",
   "pygments_lexer": "ipython2",
   "version": "2.7.6"
  }
 },
 "nbformat": 4,
 "nbformat_minor": 5
}
