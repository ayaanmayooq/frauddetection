{
 "cells": [
  {
   "cell_type": "markdown",
   "source": [
    "## Imports"
   ],
   "metadata": {
    "collapsed": false
   },
   "id": "7dbdc52baa9e302b"
  },
  {
   "cell_type": "code",
   "id": "initial_id",
   "metadata": {
    "collapsed": true,
    "ExecuteTime": {
     "end_time": "2024-11-21T19:38:10.934025Z",
     "start_time": "2024-11-21T19:37:35.669126Z"
    }
   },
   "source": [
    "import pandas as pd\n",
    "import numpy as np\n",
    "import seaborn as sns\n",
    "import matplotlib.pyplot as plt\n",
    "from sklearn.metrics import confusion_matrix, roc_curve, auc, precision_recall_curve, accuracy_score\n",
    "\n",
    "from src.data_prep import prepare_data\n",
    "# from src.models import logistic_regression_model, decision_tree_model, random_forest_model, lightgbm_model\n",
    "# from src.train import train_sklearn_model\n",
    "from src.evaluation import evaluate_model\n",
    "\n",
    "from sklearn.linear_model import LogisticRegression\n",
    "from sklearn.ensemble import RandomForestClassifier\n",
    "\n",
    "import joblib\n",
    "\n",
    "import torch\n",
    "import torch.nn as nn\n",
    "import torch.optim as optim\n",
    "\n",
    "from imblearn.over_sampling import SMOTE\n",
    "\n",
    "sns.set(style=\"whitegrid\")"
   ],
   "outputs": [
    {
     "name": "stderr",
     "output_type": "stream",
     "text": [
      "2024-11-21 13:37:35.927537: I tensorflow/core/platform/cpu_feature_guard.cc:193] This TensorFlow binary is optimized with oneAPI Deep Neural Network Library (oneDNN) to use the following CPU instructions in performance-critical operations:  AVX2 FMA\n",
      "To enable them in other operations, rebuild TensorFlow with the appropriate compiler flags.\n"
     ]
    }
   ],
   "execution_count": 33
  },
  {
   "cell_type": "markdown",
   "source": [
    "## Load and Prepare Data"
   ],
   "metadata": {
    "collapsed": false
   },
   "id": "10d3d7d55ce58a75"
  },
  {
   "cell_type": "code",
   "source": [
    "dataset_name = 'creditcard'\n",
    "X_train, X_test, y_train, y_test = prepare_data(dataset_name)"
   ],
   "metadata": {
    "collapsed": false,
    "ExecuteTime": {
     "end_time": "2024-11-21T19:25:44.703528Z",
     "start_time": "2024-11-21T19:25:41.645563Z"
    }
   },
   "id": "76cd42b9212f3616",
   "outputs": [],
   "execution_count": 18
  },
  {
   "cell_type": "markdown",
   "source": [
    "## Train and Evaluate Models"
   ],
   "metadata": {
    "collapsed": false
   },
   "id": "bdd7ec1c85d8de42"
  },
  {
   "cell_type": "markdown",
   "source": [
    "### Logistic Regression"
   ],
   "metadata": {
    "collapsed": false
   },
   "id": "c8f4c3b46a7f5908"
  },
  {
   "cell_type": "code",
   "source": [
    "logistic_regression = LogisticRegression()\n",
    "logistic_regression.fit(X_train, y_train)\n"
   ],
   "metadata": {
    "collapsed": false,
    "ExecuteTime": {
     "end_time": "2024-11-21T19:27:47.526215Z",
     "start_time": "2024-11-21T19:27:44.788455Z"
    }
   },
   "id": "581542d002f063cc",
   "outputs": [
    {
     "data": {
      "text/plain": [
       "LogisticRegression()"
      ]
     },
     "execution_count": 21,
     "metadata": {},
     "output_type": "execute_result"
    }
   ],
   "execution_count": 21
  },
  {
   "metadata": {
    "ExecuteTime": {
     "end_time": "2024-11-21T19:27:53.832532Z",
     "start_time": "2024-11-21T19:27:53.820017Z"
    }
   },
   "cell_type": "code",
   "source": "y_test_pred = logistic_regression.predict(X_test)\n",
   "id": "310382ad87cc6b0f",
   "outputs": [],
   "execution_count": 23
  },
  {
   "metadata": {
    "ExecuteTime": {
     "end_time": "2024-11-21T19:30:19.159546Z",
     "start_time": "2024-11-21T19:30:19.147895Z"
    }
   },
   "cell_type": "code",
   "source": "accuracy_score(y_test, y_test_pred)",
   "id": "95b5890e2d5093e8",
   "outputs": [
    {
     "data": {
      "text/plain": [
       "0.9992275552122467"
      ]
     },
     "execution_count": 29,
     "metadata": {},
     "output_type": "execute_result"
    }
   ],
   "execution_count": 29
  },
  {
   "metadata": {
    "ExecuteTime": {
     "end_time": "2024-11-21T19:30:20.392266Z",
     "start_time": "2024-11-21T19:30:20.286065Z"
    }
   },
   "cell_type": "code",
   "source": [
    "predictions = pd.DataFrame({\"y_true\": y_test, \"y_pred\": y_test_pred})\n",
    "predictions.to_csv(\"artifacts/predictions/logistic_regression_predictions.csv\", index=False)\n",
    "\n",
    "joblib.dump(logistic_regression, \"artifacts/models/logistic_regression_model.pkl\")\n",
    "print(\"Logistic Regression model and predictions saved successfully!\")\n"
   ],
   "id": "79b8a8b0f818b193",
   "outputs": [
    {
     "name": "stdout",
     "output_type": "stream",
     "text": [
      "Logistic Regression model and predictions saved successfully!\n"
     ]
    }
   ],
   "execution_count": 30
  },
  {
   "cell_type": "markdown",
   "source": [
    "### Decision Tree"
   ],
   "metadata": {
    "collapsed": false
   },
   "id": "886d30883cbceafe"
  },
  {
   "cell_type": "code",
   "outputs": [],
   "source": [],
   "metadata": {
    "collapsed": false
   },
   "id": "830f05d90089e631",
   "execution_count": null
  },
  {
   "cell_type": "markdown",
   "source": [
    "### Random Forest"
   ],
   "metadata": {
    "collapsed": false
   },
   "id": "32c4ae09dae3ef4d"
  },
  {
   "cell_type": "code",
   "source": [
    "rf = RandomForestClassifier(n_estimators=100, random_state=42)\n",
    "rf.fit(X_train, y_train)\n",
    "\n",
    "y_test_pred = rf.predict(X_test)\n",
    "\n",
    "predictions = pd.DataFrame({\"y_true\": y_test, \"y_pred\": y_test_pred})\n",
    "predictions.to_csv(\"artifacts/predictions/random_forest_predictions.csv\", index=False)\n",
    "\n",
    "joblib.dump(rf, \"artifacts/models/random_forest_model.pkl\")\n",
    "print(\"Random Forest model and predictions saved successfully!\")"
   ],
   "metadata": {
    "collapsed": false,
    "ExecuteTime": {
     "end_time": "2024-11-21T19:34:56.718257Z",
     "start_time": "2024-11-21T19:31:11.734541Z"
    }
   },
   "id": "9d84f740e4889e47",
   "outputs": [
    {
     "name": "stdout",
     "output_type": "stream",
     "text": [
      "Random Forest model and predictions saved successfully!\n"
     ]
    }
   ],
   "execution_count": 31
  },
  {
   "metadata": {
    "ExecuteTime": {
     "end_time": "2024-11-21T19:34:56.824548Z",
     "start_time": "2024-11-21T19:34:56.810027Z"
    }
   },
   "cell_type": "code",
   "source": "accuracy_score(y_test, y_test_pred)",
   "id": "5e02cbca95f45a12",
   "outputs": [
    {
     "data": {
      "text/plain": [
       "0.9995962220427653"
      ]
     },
     "execution_count": 32,
     "metadata": {},
     "output_type": "execute_result"
    }
   ],
   "execution_count": 32
  },
  {
   "cell_type": "markdown",
   "source": [
    "### LightGBM"
   ],
   "metadata": {
    "collapsed": false
   },
   "id": "ba316855fd5bcada"
  },
  {
   "cell_type": "code",
   "outputs": [],
   "source": [],
   "metadata": {
    "collapsed": false
   },
   "id": "baa9e43369934e13",
   "execution_count": null
  },
  {
   "cell_type": "markdown",
   "source": [
    "### Neural Network"
   ],
   "metadata": {
    "collapsed": false
   },
   "id": "2d55533733e1facb"
  },
  {
   "metadata": {},
   "cell_type": "markdown",
   "source": "#### Light",
   "id": "fc73ed230cd37d6c"
  },
  {
   "cell_type": "code",
   "outputs": [],
   "source": [
    "class LightNN(nn.Module):\n",
    "    def __init__(self, input_dim):\n",
    "        super(LightNN, self).__init__()\n",
    "        self.fc1 = nn.Linear(input_dim, 16)\n",
    "        self.relu1 = nn.ReLU()\n",
    "        self.fc2 = nn.Linear(16, 8)\n",
    "        self.relu2 = nn.ReLU()\n",
    "        self.fc3 = nn.Linear(8, 1)\n",
    "        self.sigmoid = nn.Sigmoid()\n",
    "\n",
    "    def forward(self, x):\n",
    "        x = self.relu1(self.fc1(x))\n",
    "        x = self.relu2(self.fc2(x))\n",
    "        x = self.sigmoid(self.fc3(x))\n",
    "        return x\n",
    "\n",
    "input_dim = X_train.shape[1]\n",
    "model = LightNN(input_dim)\n",
    "\n",
    "criterion = nn.BCELoss()\n",
    "optimizer = optim.Adam(model.parameters(), lr=0.001)\n",
    "\n",
    "X_train_tensor = torch.tensor(X_train.values, dtype=torch.float32)\n",
    "y_train_tensor = torch.tensor(y_train.values, dtype=torch.float32).view(-1, 1)\n",
    "X_test_tensor = torch.tensor(X_test.values, dtype=torch.float32)\n",
    "y_test_tensor = torch.tensor(y_test.values, dtype=torch.float32).view(-1, 1)\n",
    "\n",
    "for epoch in range(10):\n",
    "    model.train()\n",
    "    optimizer.zero_grad()\n",
    "    outputs = model(X_train_tensor)\n",
    "    loss = criterion(outputs, y_train_tensor)\n",
    "    loss.backward()\n",
    "    optimizer.step()\n",
    "    print(f\"Epoch {epoch+1}, Loss: {loss.item():.4f}\")\n",
    "\n",
    "model.eval()\n",
    "with torch.no_grad():\n",
    "    y_test_pred = model(X_test_tensor).numpy()\n",
    "    y_test_pred = (y_test_pred > 0.5).astype(int)\n",
    "\n",
    "predictions = pd.DataFrame({\"y_true\": y_test, \"y_pred\": y_test_pred.ravel()})\n",
    "predictions.to_csv(\"artifacts/predictions/light_nn_predictions.csv\", index=False)\n",
    "\n",
    "torch.save(model.state_dict(), \"artifacts/models/light_nn_model.pth\")\n",
    "print(\"Light Neural Network model and predictions saved successfully!\")\n"
   ],
   "metadata": {
    "collapsed": false
   },
   "id": "984a807f932e574e",
   "execution_count": null
  },
  {
   "metadata": {},
   "cell_type": "markdown",
   "source": "#### Dense",
   "id": "916bc24088692393"
  },
  {
   "metadata": {
    "ExecuteTime": {
     "end_time": "2024-11-21T19:55:23.239559Z",
     "start_time": "2024-11-21T19:55:22.658185Z"
    }
   },
   "cell_type": "code",
   "source": [
    "class DenseNN(nn.Module):\n",
    "    def __init__(self, input_dim):\n",
    "        super(DenseNN, self).__init__()\n",
    "        self.fc1 = nn.Linear(input_dim, 64)\n",
    "        self.relu1 = nn.ReLU()\n",
    "        self.fc2 = nn.Linear(64, 32)\n",
    "        self.relu2 = nn.ReLU()\n",
    "        self.fc3 = nn.Linear(32, 16)\n",
    "        self.relu3 = nn.ReLU()\n",
    "        self.fc4 = nn.Linear(16, 1)\n",
    "        self.sigmoid = nn.Sigmoid()\n",
    "\n",
    "    def forward(self, x):\n",
    "        x = self.relu1(self.fc1(x))\n",
    "        x = self.relu2(self.fc2(x))\n",
    "        x = self.relu3(self.fc3(x))\n",
    "        x = self.sigmoid(self.fc4(x))\n",
    "        return x\n",
    "\n",
    "model = DenseNN(input_dim)\n",
    "\n",
    "criterion = nn.BCELoss()\n",
    "optimizer = optim.Adam(model.parameters(), lr=0.001)\n",
    "\n",
    "for epoch in range(20):  # Number of epochs\n",
    "    model.train()\n",
    "    optimizer.zero_grad()\n",
    "    outputs = model(X_train_tensor)\n",
    "    loss = criterion(outputs, y_train_tensor)\n",
    "    loss.backward()\n",
    "    optimizer.step()\n",
    "    print(f\"Epoch {epoch+1}, Loss: {loss.item():.4f}\")\n",
    "\n",
    "model.eval()\n",
    "with torch.no_grad():\n",
    "    y_test_pred = model(X_test_tensor).numpy()\n",
    "    y_test_pred = (y_test_pred > 0.5).astype(int)\n",
    "\n",
    "predictions = pd.DataFrame({\"y_true\": y_test, \"y_pred\": y_test_pred.ravel()})\n",
    "predictions.to_csv(\"artifacts/predictions/dense_nn_predictions.csv\", index=False)\n",
    "\n",
    "torch.save(model.state_dict(), \"artifacts/models/dense_nn_model.pth\")\n",
    "print(\"Dense Neural Network model and predictions saved successfully!\")\n"
   ],
   "id": "8d8fd77742322635",
   "outputs": [
    {
     "ename": "NameError",
     "evalue": "name 'nn' is not defined",
     "output_type": "error",
     "traceback": [
      "\u001B[0;31m---------------------------------------------------------------------------\u001B[0m",
      "\u001B[0;31mNameError\u001B[0m                                 Traceback (most recent call last)",
      "\u001B[0;32m/var/folders/l1/y4g5qyp11rgd_xkbyjptk11h0000gn/T/ipykernel_5707/237360601.py\u001B[0m in \u001B[0;36m<module>\u001B[0;34m\u001B[0m\n\u001B[0;32m----> 1\u001B[0;31m \u001B[0;32mclass\u001B[0m \u001B[0mDenseNN\u001B[0m\u001B[0;34m(\u001B[0m\u001B[0mnn\u001B[0m\u001B[0;34m.\u001B[0m\u001B[0mModule\u001B[0m\u001B[0;34m)\u001B[0m\u001B[0;34m:\u001B[0m\u001B[0;34m\u001B[0m\u001B[0;34m\u001B[0m\u001B[0m\n\u001B[0m\u001B[1;32m      2\u001B[0m     \u001B[0;32mdef\u001B[0m \u001B[0m__init__\u001B[0m\u001B[0;34m(\u001B[0m\u001B[0mself\u001B[0m\u001B[0;34m,\u001B[0m \u001B[0minput_dim\u001B[0m\u001B[0;34m)\u001B[0m\u001B[0;34m:\u001B[0m\u001B[0;34m\u001B[0m\u001B[0;34m\u001B[0m\u001B[0m\n\u001B[1;32m      3\u001B[0m         \u001B[0msuper\u001B[0m\u001B[0;34m(\u001B[0m\u001B[0mDenseNN\u001B[0m\u001B[0;34m,\u001B[0m \u001B[0mself\u001B[0m\u001B[0;34m)\u001B[0m\u001B[0;34m.\u001B[0m\u001B[0m__init__\u001B[0m\u001B[0;34m(\u001B[0m\u001B[0;34m)\u001B[0m\u001B[0;34m\u001B[0m\u001B[0;34m\u001B[0m\u001B[0m\n\u001B[1;32m      4\u001B[0m         \u001B[0mself\u001B[0m\u001B[0;34m.\u001B[0m\u001B[0mfc1\u001B[0m \u001B[0;34m=\u001B[0m \u001B[0mnn\u001B[0m\u001B[0;34m.\u001B[0m\u001B[0mLinear\u001B[0m\u001B[0;34m(\u001B[0m\u001B[0minput_dim\u001B[0m\u001B[0;34m,\u001B[0m \u001B[0;36m64\u001B[0m\u001B[0;34m)\u001B[0m\u001B[0;34m\u001B[0m\u001B[0;34m\u001B[0m\u001B[0m\n\u001B[1;32m      5\u001B[0m         \u001B[0mself\u001B[0m\u001B[0;34m.\u001B[0m\u001B[0mrelu1\u001B[0m \u001B[0;34m=\u001B[0m \u001B[0mnn\u001B[0m\u001B[0;34m.\u001B[0m\u001B[0mReLU\u001B[0m\u001B[0;34m(\u001B[0m\u001B[0;34m)\u001B[0m\u001B[0;34m\u001B[0m\u001B[0;34m\u001B[0m\u001B[0m\n",
      "\u001B[0;31mNameError\u001B[0m: name 'nn' is not defined"
     ]
    }
   ],
   "execution_count": 34
  },
  {
   "metadata": {},
   "cell_type": "markdown",
   "source": "#### SMOTE",
   "id": "f1da0eeecb11557"
  },
  {
   "metadata": {},
   "cell_type": "code",
   "outputs": [],
   "execution_count": null,
   "source": [
    "smote = SMOTE(random_state=42)\n",
    "X_train_balanced, y_train_balanced = smote.fit_resample(X_train, y_train)\n",
    "\n",
    "X_train_balanced_tensor = torch.tensor(X_train_balanced.values, dtype=torch.float32)\n",
    "y_train_balanced_tensor = torch.tensor(y_train_balanced.values, dtype=torch.float32).view(-1, 1)\n",
    "\n",
    "model = LightNN(input_dim)\n",
    "\n",
    "criterion = nn.BCELoss()\n",
    "optimizer = optim.Adam(model.parameters(), lr=0.001)\n",
    "\n",
    "for epoch in range(10):\n",
    "    model.train()\n",
    "    optimizer.zero_grad()\n",
    "    outputs = model(X_train_balanced_tensor)\n",
    "    loss = criterion(outputs, y_train_balanced_tensor)\n",
    "    loss.backward()\n",
    "    optimizer.step()\n",
    "    print(f\"Epoch {epoch+1}, Loss: {loss.item():.4f}\")\n",
    "\n",
    "model.eval()\n",
    "with torch.no_grad():\n",
    "    y_test_pred = model(X_test_tensor).numpy()\n",
    "    y_test_pred = (y_test_pred > 0.5).astype(int)\n",
    "\n",
    "predictions = pd.DataFrame({\"y_true\": y_test, \"y_pred\": y_test_pred.ravel()})\n",
    "predictions.to_csv(\"artifacts/predictions/light_nn_SMOTE_predictions.csv\", index=False)\n",
    "\n",
    "torch.save(model.state_dict(), \"artifacts/models/light_nn_SMOTE_model.pth\")\n",
    "print(\"Light Neural Network with SMOTE model and predictions saved successfully!\")"
   ],
   "id": "c3bb2ed49d79e84f"
  },
  {
   "metadata": {},
   "cell_type": "code",
   "outputs": [],
   "execution_count": null,
   "source": [
    "smote = SMOTE(random_state=42)\n",
    "X_train_balanced, y_train_balanced = smote.fit_resample(X_train, y_train)\n",
    "\n",
    "X_train_balanced_tensor = torch.tensor(X_train_balanced.values, dtype=torch.float32)\n",
    "y_train_balanced_tensor = torch.tensor(y_train_balanced.values, dtype=torch.float32).view(-1, 1)\n",
    "\n",
    "model = DenseNN(input_dim)\n",
    "\n",
    "criterion = nn.BCELoss()\n",
    "optimizer = optim.Adam(model.parameters(), lr=0.001)\n",
    "\n",
    "for epoch in range(10):\n",
    "    model.train()\n",
    "    optimizer.zero_grad()\n",
    "    outputs = model(X_train_balanced_tensor)\n",
    "    loss = criterion(outputs, y_train_balanced_tensor)\n",
    "    loss.backward()\n",
    "    optimizer.step()\n",
    "    print(f\"Epoch {epoch+1}, Loss: {loss.item():.4f}\")\n",
    "\n",
    "model.eval()\n",
    "with torch.no_grad():\n",
    "    y_test_pred = model(X_test_tensor).numpy()\n",
    "    y_test_pred = (y_test_pred > 0.5).astype(int)\n",
    "\n",
    "predictions = pd.DataFrame({\"y_true\": y_test, \"y_pred\": y_test_pred.ravel()})\n",
    "predictions.to_csv(\"artifacts/predictions/dense_nn_SMOTE_predictions.csv\", index=False)\n",
    "\n",
    "torch.save(model.state_dict(), \"artifacts/models/dense_nn_SMOTE_model.pth\")\n",
    "print(\"Dense Neural Network with SMOTE model and predictions saved successfully!\")"
   ],
   "id": "973712e159b1a971"
  },
  {
   "cell_type": "markdown",
   "source": [
    "## Comparing Losses"
   ],
   "metadata": {
    "collapsed": false
   },
   "id": "3c036a829fdf695b"
  },
  {
   "cell_type": "markdown",
   "source": [
    "### Binary Cross Entropy"
   ],
   "metadata": {
    "collapsed": false
   },
   "id": "77ee0e9874c9bbaa"
  },
  {
   "cell_type": "code",
   "outputs": [],
   "source": [],
   "metadata": {
    "collapsed": false
   },
   "id": "8de42ffc983886db",
   "execution_count": null
  },
  {
   "cell_type": "markdown",
   "source": [
    "### Focal Loss"
   ],
   "metadata": {
    "collapsed": false
   },
   "id": "b42fa1a390dff0e0"
  },
  {
   "cell_type": "code",
   "outputs": [],
   "source": [],
   "metadata": {
    "collapsed": false
   },
   "id": "d85b3b34d17ae048",
   "execution_count": null
  },
  {
   "cell_type": "markdown",
   "source": [
    "### Weighted Binary Cross Entropy"
   ],
   "metadata": {
    "collapsed": false
   },
   "id": "e5c8d061f310be04"
  },
  {
   "cell_type": "code",
   "outputs": [],
   "source": [],
   "metadata": {
    "collapsed": false
   },
   "id": "d7c3afe4a37fbbfa",
   "execution_count": null
  },
  {
   "cell_type": "markdown",
   "source": [
    "### ROC-Star"
   ],
   "metadata": {
    "collapsed": false
   },
   "id": "5aaefc59391552d7"
  },
  {
   "cell_type": "code",
   "outputs": [],
   "source": [],
   "metadata": {
    "collapsed": false
   },
   "id": "c8f149a511922fdb",
   "execution_count": null
  },
  {
   "cell_type": "markdown",
   "source": [],
   "metadata": {
    "collapsed": false
   },
   "id": "1678b9d7d9da67a8"
  }
 ],
 "metadata": {
  "kernelspec": {
   "display_name": "Python 3",
   "language": "python",
   "name": "python3"
  },
  "language_info": {
   "codemirror_mode": {
    "name": "ipython",
    "version": 2
   },
   "file_extension": ".py",
   "mimetype": "text/x-python",
   "name": "python",
   "nbconvert_exporter": "python",
   "pygments_lexer": "ipython2",
   "version": "2.7.6"
  }
 },
 "nbformat": 4,
 "nbformat_minor": 5
}
