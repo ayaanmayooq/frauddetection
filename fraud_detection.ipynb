{
 "cells": [
  {
   "cell_type": "markdown",
   "source": [
    "## Imports"
   ],
   "metadata": {
    "collapsed": false
   },
   "id": "7dbdc52baa9e302b"
  },
  {
   "cell_type": "code",
   "execution_count": 1,
   "id": "initial_id",
   "metadata": {
    "collapsed": true,
    "ExecuteTime": {
     "end_time": "2024-11-13T04:13:35.623574Z",
     "start_time": "2024-11-13T04:13:32.838881Z"
    }
   },
   "outputs": [],
   "source": [
    "import pandas as pd\n",
    "import numpy as np\n",
    "import seaborn as sns\n",
    "import matplotlib.pyplot as plt\n",
    "from sklearn.metrics import confusion_matrix, roc_curve, auc, precision_recall_curve\n",
    "\n",
    "from src.data_prep import prepare_data\n",
    "from src.models import logistic_regression_model, decision_tree_model, random_forest_model, lightgbm_model\n",
    "from src.train import train_sklearn_model\n",
    "from src.evaluation import evaluate_model\n",
    "\n",
    "sns.set(style=\"whitegrid\")"
   ]
  },
  {
   "cell_type": "markdown",
   "source": [
    "## Load and Prepare Data"
   ],
   "metadata": {
    "collapsed": false
   },
   "id": "10d3d7d55ce58a75"
  },
  {
   "cell_type": "code",
   "outputs": [],
   "source": [
    "dataset_name = 'creditcard'\n",
    "X_train, X_test, y_train, y_test = prepare_data(dataset_name)"
   ],
   "metadata": {
    "collapsed": false,
    "ExecuteTime": {
     "end_time": "2024-11-13T04:15:28.994738Z",
     "start_time": "2024-11-13T04:15:27.573139Z"
    }
   },
   "id": "76cd42b9212f3616",
   "execution_count": 4
  },
  {
   "cell_type": "markdown",
   "source": [
    "## Train and Evaluate Models"
   ],
   "metadata": {
    "collapsed": false
   },
   "id": "bdd7ec1c85d8de42"
  },
  {
   "cell_type": "markdown",
   "source": [
    "### Logistic Regression"
   ],
   "metadata": {
    "collapsed": false
   },
   "id": "c8f4c3b46a7f5908"
  },
  {
   "cell_type": "code",
   "outputs": [
    {
     "name": "stdout",
     "output_type": "stream",
     "text": [
      "Precision: 0.8504672897196262\n",
      "Recall: 0.6148648648648649\n",
      "F1 Score: 0.7137254901960784\n",
      "AUC-ROC: 0.8073386402992476\n"
     ]
    }
   ],
   "source": [
    "log_reg_model = logistic_regression_model()\n",
    "train_sklearn_model(log_reg_model, X_train, y_train, X_test, y_test)"
   ],
   "metadata": {
    "collapsed": false,
    "ExecuteTime": {
     "end_time": "2024-11-13T04:15:29.400155Z",
     "start_time": "2024-11-13T04:15:28.995737Z"
    }
   },
   "id": "581542d002f063cc",
   "execution_count": 5
  },
  {
   "cell_type": "code",
   "outputs": [],
   "source": [],
   "metadata": {
    "collapsed": false
   },
   "id": "59bbdfc3667a0ac6"
  },
  {
   "cell_type": "markdown",
   "source": [
    "### Decision Tree"
   ],
   "metadata": {
    "collapsed": false
   },
   "id": "886d30883cbceafe"
  },
  {
   "cell_type": "code",
   "outputs": [],
   "source": [],
   "metadata": {
    "collapsed": false
   },
   "id": "830f05d90089e631"
  },
  {
   "cell_type": "markdown",
   "source": [
    "### Random Forest"
   ],
   "metadata": {
    "collapsed": false
   },
   "id": "32c4ae09dae3ef4d"
  },
  {
   "cell_type": "code",
   "outputs": [],
   "source": [],
   "metadata": {
    "collapsed": false
   },
   "id": "9d84f740e4889e47"
  },
  {
   "cell_type": "markdown",
   "source": [
    "### LightGBM"
   ],
   "metadata": {
    "collapsed": false
   },
   "id": "ba316855fd5bcada"
  },
  {
   "cell_type": "code",
   "outputs": [],
   "source": [],
   "metadata": {
    "collapsed": false
   },
   "id": "baa9e43369934e13"
  },
  {
   "cell_type": "markdown",
   "source": [
    "### Neural Network"
   ],
   "metadata": {
    "collapsed": false
   },
   "id": "2d55533733e1facb"
  },
  {
   "cell_type": "code",
   "outputs": [],
   "source": [],
   "metadata": {
    "collapsed": false
   },
   "id": "984a807f932e574e"
  },
  {
   "cell_type": "markdown",
   "source": [
    "## Comparing Losses"
   ],
   "metadata": {
    "collapsed": false
   },
   "id": "3c036a829fdf695b"
  },
  {
   "cell_type": "markdown",
   "source": [
    "### Binary Cross Entropy"
   ],
   "metadata": {
    "collapsed": false
   },
   "id": "77ee0e9874c9bbaa"
  },
  {
   "cell_type": "code",
   "outputs": [],
   "source": [],
   "metadata": {
    "collapsed": false
   },
   "id": "8de42ffc983886db"
  },
  {
   "cell_type": "markdown",
   "source": [
    "### Focal Loss"
   ],
   "metadata": {
    "collapsed": false
   },
   "id": "b42fa1a390dff0e0"
  },
  {
   "cell_type": "code",
   "outputs": [],
   "source": [],
   "metadata": {
    "collapsed": false
   },
   "id": "d85b3b34d17ae048"
  },
  {
   "cell_type": "markdown",
   "source": [
    "### Weighted Binary Cross Entropy"
   ],
   "metadata": {
    "collapsed": false
   },
   "id": "e5c8d061f310be04"
  },
  {
   "cell_type": "code",
   "outputs": [],
   "source": [],
   "metadata": {
    "collapsed": false
   },
   "id": "d7c3afe4a37fbbfa"
  },
  {
   "cell_type": "markdown",
   "source": [
    "### ROC-Star"
   ],
   "metadata": {
    "collapsed": false
   },
   "id": "5aaefc59391552d7"
  },
  {
   "cell_type": "code",
   "outputs": [],
   "source": [],
   "metadata": {
    "collapsed": false
   },
   "id": "c8f149a511922fdb"
  },
  {
   "cell_type": "markdown",
   "source": [],
   "metadata": {
    "collapsed": false
   },
   "id": "1678b9d7d9da67a8"
  }
 ],
 "metadata": {
  "kernelspec": {
   "display_name": "Python 3",
   "language": "python",
   "name": "python3"
  },
  "language_info": {
   "codemirror_mode": {
    "name": "ipython",
    "version": 2
   },
   "file_extension": ".py",
   "mimetype": "text/x-python",
   "name": "python",
   "nbconvert_exporter": "python",
   "pygments_lexer": "ipython2",
   "version": "2.7.6"
  }
 },
 "nbformat": 4,
 "nbformat_minor": 5
}
