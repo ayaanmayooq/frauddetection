{
 "cells": [
  {
   "cell_type": "markdown",
   "source": [
    "## Imports"
   ],
   "metadata": {
    "collapsed": false
   },
   "id": "7dbdc52baa9e302b"
  },
  {
   "cell_type": "code",
   "id": "initial_id",
   "metadata": {
    "collapsed": true,
    "ExecuteTime": {
     "end_time": "2024-11-28T18:15:46.542250500Z",
     "start_time": "2024-11-28T18:15:46.428817500Z"
    }
   },
   "source": [
    "import pandas as pd\n",
    "import numpy as np\n",
    "import seaborn as sns\n",
    "import matplotlib.pyplot as plt\n",
    "from sklearn.metrics import confusion_matrix, roc_curve, auc, precision_recall_curve, accuracy_score, roc_auc_score, log_loss\n",
    "\n",
    "from sklearn.model_selection import train_test_split\n",
    "\n",
    "from src.data_prep import prepare_data\n",
    "# from src.models import logistic_regression_model, decision_tree_model, random_forest_model, lightgbm_model\n",
    "# from src.train import train_sklearn_model\n",
    "from src.evaluation import evaluate_model\n",
    "\n",
    "from sklearn.linear_model import LogisticRegression\n",
    "from sklearn.ensemble import RandomForestClassifier\n",
    "\n",
    "import joblib\n",
    "\n",
    "import torch\n",
    "import torch.nn as nn\n",
    "import torch.optim as optim\n",
    "\n",
    "from imblearn.over_sampling import SMOTE\n",
    "\n",
    "import lightgbm as lgb\n",
    "\n",
    "sns.set(style=\"whitegrid\")"
   ],
   "outputs": [],
   "execution_count": 40
  },
  {
   "cell_type": "markdown",
   "source": [
    "## Load and Prepare Data"
   ],
   "metadata": {
    "collapsed": false
   },
   "id": "10d3d7d55ce58a75"
  },
  {
   "cell_type": "code",
   "source": [
    "dataset_name = 'creditcard'\n",
    "X_train, X_test, y_train, y_test = prepare_data(dataset_name)"
   ],
   "metadata": {
    "collapsed": false,
    "ExecuteTime": {
     "end_time": "2024-11-28T17:54:27.786727Z",
     "start_time": "2024-11-28T17:54:26.267035800Z"
    }
   },
   "id": "76cd42b9212f3616",
   "outputs": [],
   "execution_count": 6
  },
  {
   "cell_type": "code",
   "outputs": [],
   "source": [],
   "metadata": {
    "collapsed": false
   },
   "id": "44169ec71a9f00ae"
  },
  {
   "cell_type": "markdown",
   "source": [
    "## Train and Evaluate Models"
   ],
   "metadata": {
    "collapsed": false
   },
   "id": "bdd7ec1c85d8de42"
  },
  {
   "cell_type": "markdown",
   "source": [
    "### Logistic Regression"
   ],
   "metadata": {
    "collapsed": false
   },
   "id": "c8f4c3b46a7f5908"
  },
  {
   "cell_type": "code",
   "source": [
    "logistic_regression = LogisticRegression()\n",
    "logistic_regression.fit(X_train, y_train)\n"
   ],
   "metadata": {
    "collapsed": false,
    "ExecuteTime": {
     "end_time": "2024-11-28T17:54:29.691545100Z",
     "start_time": "2024-11-28T17:54:29.363928600Z"
    }
   },
   "id": "581542d002f063cc",
   "outputs": [
    {
     "data": {
      "text/plain": "LogisticRegression()",
      "text/html": "<style>#sk-container-id-1 {\n  /* Definition of color scheme common for light and dark mode */\n  --sklearn-color-text: black;\n  --sklearn-color-line: gray;\n  /* Definition of color scheme for unfitted estimators */\n  --sklearn-color-unfitted-level-0: #fff5e6;\n  --sklearn-color-unfitted-level-1: #f6e4d2;\n  --sklearn-color-unfitted-level-2: #ffe0b3;\n  --sklearn-color-unfitted-level-3: chocolate;\n  /* Definition of color scheme for fitted estimators */\n  --sklearn-color-fitted-level-0: #f0f8ff;\n  --sklearn-color-fitted-level-1: #d4ebff;\n  --sklearn-color-fitted-level-2: #b3dbfd;\n  --sklearn-color-fitted-level-3: cornflowerblue;\n\n  /* Specific color for light theme */\n  --sklearn-color-text-on-default-background: var(--sg-text-color, var(--theme-code-foreground, var(--jp-content-font-color1, black)));\n  --sklearn-color-background: var(--sg-background-color, var(--theme-background, var(--jp-layout-color0, white)));\n  --sklearn-color-border-box: var(--sg-text-color, var(--theme-code-foreground, var(--jp-content-font-color1, black)));\n  --sklearn-color-icon: #696969;\n\n  @media (prefers-color-scheme: dark) {\n    /* Redefinition of color scheme for dark theme */\n    --sklearn-color-text-on-default-background: var(--sg-text-color, var(--theme-code-foreground, var(--jp-content-font-color1, white)));\n    --sklearn-color-background: var(--sg-background-color, var(--theme-background, var(--jp-layout-color0, #111)));\n    --sklearn-color-border-box: var(--sg-text-color, var(--theme-code-foreground, var(--jp-content-font-color1, white)));\n    --sklearn-color-icon: #878787;\n  }\n}\n\n#sk-container-id-1 {\n  color: var(--sklearn-color-text);\n}\n\n#sk-container-id-1 pre {\n  padding: 0;\n}\n\n#sk-container-id-1 input.sk-hidden--visually {\n  border: 0;\n  clip: rect(1px 1px 1px 1px);\n  clip: rect(1px, 1px, 1px, 1px);\n  height: 1px;\n  margin: -1px;\n  overflow: hidden;\n  padding: 0;\n  position: absolute;\n  width: 1px;\n}\n\n#sk-container-id-1 div.sk-dashed-wrapped {\n  border: 1px dashed var(--sklearn-color-line);\n  margin: 0 0.4em 0.5em 0.4em;\n  box-sizing: border-box;\n  padding-bottom: 0.4em;\n  background-color: var(--sklearn-color-background);\n}\n\n#sk-container-id-1 div.sk-container {\n  /* jupyter's `normalize.less` sets `[hidden] { display: none; }`\n     but bootstrap.min.css set `[hidden] { display: none !important; }`\n     so we also need the `!important` here to be able to override the\n     default hidden behavior on the sphinx rendered scikit-learn.org.\n     See: https://github.com/scikit-learn/scikit-learn/issues/21755 */\n  display: inline-block !important;\n  position: relative;\n}\n\n#sk-container-id-1 div.sk-text-repr-fallback {\n  display: none;\n}\n\ndiv.sk-parallel-item,\ndiv.sk-serial,\ndiv.sk-item {\n  /* draw centered vertical line to link estimators */\n  background-image: linear-gradient(var(--sklearn-color-text-on-default-background), var(--sklearn-color-text-on-default-background));\n  background-size: 2px 100%;\n  background-repeat: no-repeat;\n  background-position: center center;\n}\n\n/* Parallel-specific style estimator block */\n\n#sk-container-id-1 div.sk-parallel-item::after {\n  content: \"\";\n  width: 100%;\n  border-bottom: 2px solid var(--sklearn-color-text-on-default-background);\n  flex-grow: 1;\n}\n\n#sk-container-id-1 div.sk-parallel {\n  display: flex;\n  align-items: stretch;\n  justify-content: center;\n  background-color: var(--sklearn-color-background);\n  position: relative;\n}\n\n#sk-container-id-1 div.sk-parallel-item {\n  display: flex;\n  flex-direction: column;\n}\n\n#sk-container-id-1 div.sk-parallel-item:first-child::after {\n  align-self: flex-end;\n  width: 50%;\n}\n\n#sk-container-id-1 div.sk-parallel-item:last-child::after {\n  align-self: flex-start;\n  width: 50%;\n}\n\n#sk-container-id-1 div.sk-parallel-item:only-child::after {\n  width: 0;\n}\n\n/* Serial-specific style estimator block */\n\n#sk-container-id-1 div.sk-serial {\n  display: flex;\n  flex-direction: column;\n  align-items: center;\n  background-color: var(--sklearn-color-background);\n  padding-right: 1em;\n  padding-left: 1em;\n}\n\n\n/* Toggleable style: style used for estimator/Pipeline/ColumnTransformer box that is\nclickable and can be expanded/collapsed.\n- Pipeline and ColumnTransformer use this feature and define the default style\n- Estimators will overwrite some part of the style using the `sk-estimator` class\n*/\n\n/* Pipeline and ColumnTransformer style (default) */\n\n#sk-container-id-1 div.sk-toggleable {\n  /* Default theme specific background. It is overwritten whether we have a\n  specific estimator or a Pipeline/ColumnTransformer */\n  background-color: var(--sklearn-color-background);\n}\n\n/* Toggleable label */\n#sk-container-id-1 label.sk-toggleable__label {\n  cursor: pointer;\n  display: block;\n  width: 100%;\n  margin-bottom: 0;\n  padding: 0.5em;\n  box-sizing: border-box;\n  text-align: center;\n}\n\n#sk-container-id-1 label.sk-toggleable__label-arrow:before {\n  /* Arrow on the left of the label */\n  content: \"▸\";\n  float: left;\n  margin-right: 0.25em;\n  color: var(--sklearn-color-icon);\n}\n\n#sk-container-id-1 label.sk-toggleable__label-arrow:hover:before {\n  color: var(--sklearn-color-text);\n}\n\n/* Toggleable content - dropdown */\n\n#sk-container-id-1 div.sk-toggleable__content {\n  max-height: 0;\n  max-width: 0;\n  overflow: hidden;\n  text-align: left;\n  /* unfitted */\n  background-color: var(--sklearn-color-unfitted-level-0);\n}\n\n#sk-container-id-1 div.sk-toggleable__content.fitted {\n  /* fitted */\n  background-color: var(--sklearn-color-fitted-level-0);\n}\n\n#sk-container-id-1 div.sk-toggleable__content pre {\n  margin: 0.2em;\n  border-radius: 0.25em;\n  color: var(--sklearn-color-text);\n  /* unfitted */\n  background-color: var(--sklearn-color-unfitted-level-0);\n}\n\n#sk-container-id-1 div.sk-toggleable__content.fitted pre {\n  /* unfitted */\n  background-color: var(--sklearn-color-fitted-level-0);\n}\n\n#sk-container-id-1 input.sk-toggleable__control:checked~div.sk-toggleable__content {\n  /* Expand drop-down */\n  max-height: 200px;\n  max-width: 100%;\n  overflow: auto;\n}\n\n#sk-container-id-1 input.sk-toggleable__control:checked~label.sk-toggleable__label-arrow:before {\n  content: \"▾\";\n}\n\n/* Pipeline/ColumnTransformer-specific style */\n\n#sk-container-id-1 div.sk-label input.sk-toggleable__control:checked~label.sk-toggleable__label {\n  color: var(--sklearn-color-text);\n  background-color: var(--sklearn-color-unfitted-level-2);\n}\n\n#sk-container-id-1 div.sk-label.fitted input.sk-toggleable__control:checked~label.sk-toggleable__label {\n  background-color: var(--sklearn-color-fitted-level-2);\n}\n\n/* Estimator-specific style */\n\n/* Colorize estimator box */\n#sk-container-id-1 div.sk-estimator input.sk-toggleable__control:checked~label.sk-toggleable__label {\n  /* unfitted */\n  background-color: var(--sklearn-color-unfitted-level-2);\n}\n\n#sk-container-id-1 div.sk-estimator.fitted input.sk-toggleable__control:checked~label.sk-toggleable__label {\n  /* fitted */\n  background-color: var(--sklearn-color-fitted-level-2);\n}\n\n#sk-container-id-1 div.sk-label label.sk-toggleable__label,\n#sk-container-id-1 div.sk-label label {\n  /* The background is the default theme color */\n  color: var(--sklearn-color-text-on-default-background);\n}\n\n/* On hover, darken the color of the background */\n#sk-container-id-1 div.sk-label:hover label.sk-toggleable__label {\n  color: var(--sklearn-color-text);\n  background-color: var(--sklearn-color-unfitted-level-2);\n}\n\n/* Label box, darken color on hover, fitted */\n#sk-container-id-1 div.sk-label.fitted:hover label.sk-toggleable__label.fitted {\n  color: var(--sklearn-color-text);\n  background-color: var(--sklearn-color-fitted-level-2);\n}\n\n/* Estimator label */\n\n#sk-container-id-1 div.sk-label label {\n  font-family: monospace;\n  font-weight: bold;\n  display: inline-block;\n  line-height: 1.2em;\n}\n\n#sk-container-id-1 div.sk-label-container {\n  text-align: center;\n}\n\n/* Estimator-specific */\n#sk-container-id-1 div.sk-estimator {\n  font-family: monospace;\n  border: 1px dotted var(--sklearn-color-border-box);\n  border-radius: 0.25em;\n  box-sizing: border-box;\n  margin-bottom: 0.5em;\n  /* unfitted */\n  background-color: var(--sklearn-color-unfitted-level-0);\n}\n\n#sk-container-id-1 div.sk-estimator.fitted {\n  /* fitted */\n  background-color: var(--sklearn-color-fitted-level-0);\n}\n\n/* on hover */\n#sk-container-id-1 div.sk-estimator:hover {\n  /* unfitted */\n  background-color: var(--sklearn-color-unfitted-level-2);\n}\n\n#sk-container-id-1 div.sk-estimator.fitted:hover {\n  /* fitted */\n  background-color: var(--sklearn-color-fitted-level-2);\n}\n\n/* Specification for estimator info (e.g. \"i\" and \"?\") */\n\n/* Common style for \"i\" and \"?\" */\n\n.sk-estimator-doc-link,\na:link.sk-estimator-doc-link,\na:visited.sk-estimator-doc-link {\n  float: right;\n  font-size: smaller;\n  line-height: 1em;\n  font-family: monospace;\n  background-color: var(--sklearn-color-background);\n  border-radius: 1em;\n  height: 1em;\n  width: 1em;\n  text-decoration: none !important;\n  margin-left: 1ex;\n  /* unfitted */\n  border: var(--sklearn-color-unfitted-level-1) 1pt solid;\n  color: var(--sklearn-color-unfitted-level-1);\n}\n\n.sk-estimator-doc-link.fitted,\na:link.sk-estimator-doc-link.fitted,\na:visited.sk-estimator-doc-link.fitted {\n  /* fitted */\n  border: var(--sklearn-color-fitted-level-1) 1pt solid;\n  color: var(--sklearn-color-fitted-level-1);\n}\n\n/* On hover */\ndiv.sk-estimator:hover .sk-estimator-doc-link:hover,\n.sk-estimator-doc-link:hover,\ndiv.sk-label-container:hover .sk-estimator-doc-link:hover,\n.sk-estimator-doc-link:hover {\n  /* unfitted */\n  background-color: var(--sklearn-color-unfitted-level-3);\n  color: var(--sklearn-color-background);\n  text-decoration: none;\n}\n\ndiv.sk-estimator.fitted:hover .sk-estimator-doc-link.fitted:hover,\n.sk-estimator-doc-link.fitted:hover,\ndiv.sk-label-container:hover .sk-estimator-doc-link.fitted:hover,\n.sk-estimator-doc-link.fitted:hover {\n  /* fitted */\n  background-color: var(--sklearn-color-fitted-level-3);\n  color: var(--sklearn-color-background);\n  text-decoration: none;\n}\n\n/* Span, style for the box shown on hovering the info icon */\n.sk-estimator-doc-link span {\n  display: none;\n  z-index: 9999;\n  position: relative;\n  font-weight: normal;\n  right: .2ex;\n  padding: .5ex;\n  margin: .5ex;\n  width: min-content;\n  min-width: 20ex;\n  max-width: 50ex;\n  color: var(--sklearn-color-text);\n  box-shadow: 2pt 2pt 4pt #999;\n  /* unfitted */\n  background: var(--sklearn-color-unfitted-level-0);\n  border: .5pt solid var(--sklearn-color-unfitted-level-3);\n}\n\n.sk-estimator-doc-link.fitted span {\n  /* fitted */\n  background: var(--sklearn-color-fitted-level-0);\n  border: var(--sklearn-color-fitted-level-3);\n}\n\n.sk-estimator-doc-link:hover span {\n  display: block;\n}\n\n/* \"?\"-specific style due to the `<a>` HTML tag */\n\n#sk-container-id-1 a.estimator_doc_link {\n  float: right;\n  font-size: 1rem;\n  line-height: 1em;\n  font-family: monospace;\n  background-color: var(--sklearn-color-background);\n  border-radius: 1rem;\n  height: 1rem;\n  width: 1rem;\n  text-decoration: none;\n  /* unfitted */\n  color: var(--sklearn-color-unfitted-level-1);\n  border: var(--sklearn-color-unfitted-level-1) 1pt solid;\n}\n\n#sk-container-id-1 a.estimator_doc_link.fitted {\n  /* fitted */\n  border: var(--sklearn-color-fitted-level-1) 1pt solid;\n  color: var(--sklearn-color-fitted-level-1);\n}\n\n/* On hover */\n#sk-container-id-1 a.estimator_doc_link:hover {\n  /* unfitted */\n  background-color: var(--sklearn-color-unfitted-level-3);\n  color: var(--sklearn-color-background);\n  text-decoration: none;\n}\n\n#sk-container-id-1 a.estimator_doc_link.fitted:hover {\n  /* fitted */\n  background-color: var(--sklearn-color-fitted-level-3);\n}\n</style><div id=\"sk-container-id-1\" class=\"sk-top-container\"><div class=\"sk-text-repr-fallback\"><pre>LogisticRegression()</pre><b>In a Jupyter environment, please rerun this cell to show the HTML representation or trust the notebook. <br />On GitHub, the HTML representation is unable to render, please try loading this page with nbviewer.org.</b></div><div class=\"sk-container\" hidden><div class=\"sk-item\"><div class=\"sk-estimator fitted sk-toggleable\"><input class=\"sk-toggleable__control sk-hidden--visually\" id=\"sk-estimator-id-1\" type=\"checkbox\" checked><label for=\"sk-estimator-id-1\" class=\"sk-toggleable__label fitted sk-toggleable__label-arrow fitted\">&nbsp;&nbsp;LogisticRegression<a class=\"sk-estimator-doc-link fitted\" rel=\"noreferrer\" target=\"_blank\" href=\"https://scikit-learn.org/1.5/modules/generated/sklearn.linear_model.LogisticRegression.html\">?<span>Documentation for LogisticRegression</span></a><span class=\"sk-estimator-doc-link fitted\">i<span>Fitted</span></span></label><div class=\"sk-toggleable__content fitted\"><pre>LogisticRegression()</pre></div> </div></div></div></div>"
     },
     "execution_count": 7,
     "metadata": {},
     "output_type": "execute_result"
    }
   ],
   "execution_count": 7
  },
  {
   "metadata": {
    "ExecuteTime": {
     "end_time": "2024-11-28T17:54:30.041354500Z",
     "start_time": "2024-11-28T17:54:30.014930900Z"
    }
   },
   "cell_type": "code",
   "source": [
    "y_test_pred = logistic_regression.predict(X_test)\n"
   ],
   "id": "310382ad87cc6b0f",
   "outputs": [],
   "execution_count": 8
  },
  {
   "metadata": {
    "ExecuteTime": {
     "end_time": "2024-11-28T17:54:57.285726900Z",
     "start_time": "2024-11-28T17:54:57.255836500Z"
    }
   },
   "cell_type": "code",
   "source": [
    "accuracy_score(y_test, y_test_pred)"
   ],
   "id": "95b5890e2d5093e8",
   "outputs": [
    {
     "data": {
      "text/plain": "0.9992802219023208"
     },
     "execution_count": 11,
     "metadata": {},
     "output_type": "execute_result"
    }
   ],
   "execution_count": 11
  },
  {
   "metadata": {
    "ExecuteTime": {
     "end_time": "2024-11-28T17:54:57.727859100Z",
     "start_time": "2024-11-28T17:54:57.676122900Z"
    }
   },
   "cell_type": "code",
   "source": [
    "predictions = pd.DataFrame({\"y_true\": y_test, \"y_pred\": y_test_pred})\n",
    "predictions.to_csv(\"artifacts/predictions/logistic_regression_predictions.csv\", index=False)\n",
    "\n",
    "joblib.dump(logistic_regression, \"artifacts/models/logistic_regression_model.pkl\")\n",
    "print(\"Logistic Regression model and predictions saved successfully!\")\n"
   ],
   "id": "79b8a8b0f818b193",
   "outputs": [
    {
     "name": "stdout",
     "output_type": "stream",
     "text": [
      "Logistic Regression model and predictions saved successfully!\n"
     ]
    }
   ],
   "execution_count": 12
  },
  {
   "cell_type": "markdown",
   "source": [
    "### Decision Tree"
   ],
   "metadata": {
    "collapsed": false
   },
   "id": "886d30883cbceafe"
  },
  {
   "cell_type": "code",
   "outputs": [],
   "source": [],
   "metadata": {
    "collapsed": false,
    "ExecuteTime": {
     "end_time": "2024-11-28T17:54:58.868419200Z",
     "start_time": "2024-11-28T17:54:58.841687200Z"
    }
   },
   "id": "830f05d90089e631",
   "execution_count": 12
  },
  {
   "cell_type": "markdown",
   "source": [
    "### Random Forest"
   ],
   "metadata": {
    "collapsed": false
   },
   "id": "32c4ae09dae3ef4d"
  },
  {
   "cell_type": "code",
   "source": [
    "rf = RandomForestClassifier(n_estimators=100, random_state=42)\n",
    "rf.fit(X_train, y_train)\n",
    "\n",
    "y_test_pred = rf.predict(X_test)\n",
    "\n",
    "predictions = pd.DataFrame({\"y_true\": y_test, \"y_pred\": y_test_pred})\n",
    "predictions.to_csv(\"artifacts/predictions/random_forest_predictions.csv\", index=False)\n",
    "\n",
    "joblib.dump(rf, \"artifacts/models/random_forest_model.pkl\")\n",
    "print(\"Random Forest model and predictions saved successfully!\")"
   ],
   "metadata": {
    "collapsed": false,
    "ExecuteTime": {
     "end_time": "2024-11-28T17:58:39.712781700Z",
     "start_time": "2024-11-28T17:54:59.436793700Z"
    }
   },
   "id": "9d84f740e4889e47",
   "outputs": [
    {
     "name": "stdout",
     "output_type": "stream",
     "text": [
      "Random Forest model and predictions saved successfully!\n"
     ]
    }
   ],
   "execution_count": 13
  },
  {
   "metadata": {
    "ExecuteTime": {
     "end_time": "2024-11-28T17:58:39.765479Z",
     "start_time": "2024-11-28T17:58:39.712781700Z"
    }
   },
   "cell_type": "code",
   "source": [
    "accuracy_score(y_test, y_test_pred)"
   ],
   "id": "5e02cbca95f45a12",
   "outputs": [
    {
     "data": {
      "text/plain": "0.9995084442259752"
     },
     "execution_count": 14,
     "metadata": {},
     "output_type": "execute_result"
    }
   ],
   "execution_count": 14
  },
  {
   "cell_type": "markdown",
   "source": [
    "### LightGBM"
   ],
   "metadata": {
    "collapsed": false
   },
   "id": "ba316855fd5bcada"
  },
  {
   "cell_type": "code",
   "outputs": [
    {
     "name": "stdout",
     "output_type": "stream",
     "text": [
      "[LightGBM] [Info] Number of positive: 300, number of negative: 170583\n",
      "[LightGBM] [Info] Auto-choosing col-wise multi-threading, the overhead of testing was 0.012829 seconds.\n",
      "You can set `force_col_wise=true` to remove the overhead.\n",
      "[LightGBM] [Info] Total Bins 7650\n",
      "[LightGBM] [Info] Number of data points in the train set: 170883, number of used features: 30\n",
      "[LightGBM] [Info] [binary:BoostFromScore]: pavg=0.001756 -> initscore=-6.343195\n",
      "[LightGBM] [Info] Start training from score -6.343195\n",
      "Training until validation scores don't improve for 20 rounds\n",
      "[100]\tfit's binary_logloss: 0.00182857\tval's binary_logloss: 0.00391336\n",
      "[200]\tfit's binary_logloss: 0.000773641\tval's binary_logloss: 0.00333556\n",
      "[300]\tfit's binary_logloss: 0.000361373\tval's binary_logloss: 0.00321147\n",
      "Early stopping, best iteration is:\n",
      "[329]\tfit's binary_logloss: 0.000293073\tval's binary_logloss: 0.00320633\n",
      "\n",
      "Test's ROC AUC: 0.97419\n",
      "Test's logloss: 0.00300\n"
     ]
    },
    {
     "data": {
      "text/plain": "<lightgbm.basic.Booster at 0x2b1d033fe80>"
     },
     "execution_count": 44,
     "metadata": {},
     "output_type": "execute_result"
    }
   ],
   "source": [],
   "metadata": {
    "collapsed": false,
    "ExecuteTime": {
     "end_time": "2024-11-28T18:28:45.378687900Z",
     "start_time": "2024-11-28T18:28:42.275602400Z"
    }
   },
   "id": "baa9e43369934e13",
   "execution_count": 44
  },
  {
   "cell_type": "markdown",
   "source": [
    "### Neural Network"
   ],
   "metadata": {
    "collapsed": false
   },
   "id": "2d55533733e1facb"
  },
  {
   "metadata": {},
   "cell_type": "markdown",
   "source": [
    "#### Light"
   ],
   "id": "fc73ed230cd37d6c"
  },
  {
   "cell_type": "code",
   "outputs": [
    {
     "name": "stdout",
     "output_type": "stream",
     "text": [
      "Epoch 1, Loss: 0.7862\n",
      "Epoch 2, Loss: 0.7829\n",
      "Epoch 3, Loss: 0.7796\n",
      "Epoch 4, Loss: 0.7762\n",
      "Epoch 5, Loss: 0.7729\n",
      "Epoch 6, Loss: 0.7696\n",
      "Epoch 7, Loss: 0.7663\n",
      "Epoch 8, Loss: 0.7631\n",
      "Epoch 9, Loss: 0.7598\n",
      "Epoch 10, Loss: 0.7565\n",
      "Light Neural Network model and predictions saved successfully!\n"
     ]
    }
   ],
   "source": [
    "class LightNN(nn.Module):\n",
    "    def __init__(self, input_dim):\n",
    "        super(LightNN, self).__init__()\n",
    "        self.fc1 = nn.Linear(input_dim, 16)\n",
    "        self.relu1 = nn.ReLU()\n",
    "        self.fc2 = nn.Linear(16, 8)\n",
    "        self.relu2 = nn.ReLU()\n",
    "        self.fc3 = nn.Linear(8, 1)\n",
    "        self.sigmoid = nn.Sigmoid()\n",
    "\n",
    "    def forward(self, x):\n",
    "        x = self.relu1(self.fc1(x))\n",
    "        x = self.relu2(self.fc2(x))\n",
    "        x = self.sigmoid(self.fc3(x))\n",
    "        return x\n",
    "\n",
    "input_dim = X_train.shape[1]\n",
    "model = LightNN(input_dim)\n",
    "\n",
    "criterion = nn.BCELoss()\n",
    "optimizer = optim.Adam(model.parameters(), lr=0.001)\n",
    "\n",
    "X_train_tensor = torch.tensor(X_train, dtype=torch.float32)\n",
    "y_train_tensor = torch.tensor(y_train.to_numpy(), dtype=torch.float32).view(-1, 1)\n",
    "X_test_tensor = torch.tensor(X_test, dtype=torch.float32)\n",
    "y_test_tensor = torch.tensor(y_test.to_numpy(), dtype=torch.float32).view(-1, 1)\n",
    "\n",
    "for epoch in range(10):\n",
    "    model.train()\n",
    "    optimizer.zero_grad()\n",
    "    outputs = model(X_train_tensor)\n",
    "    loss = criterion(outputs, y_train_tensor)\n",
    "    loss.backward()\n",
    "    optimizer.step()\n",
    "    print(f\"Epoch {epoch+1}, Loss: {loss.item():.4f}\")\n",
    "\n",
    "model.eval()\n",
    "with torch.no_grad():\n",
    "    y_test_pred = model(X_test_tensor).numpy()\n",
    "    y_test_pred = (y_test_pred > 0.5).astype(int)\n",
    "\n",
    "predictions = pd.DataFrame({\"y_true\": y_test, \"y_pred\": y_test_pred.ravel()})\n",
    "predictions.to_csv(\"artifacts/predictions/light_nn_predictions.csv\", index=False)\n",
    "\n",
    "torch.save(model.state_dict(), \"artifacts/models/light_nn_model.pth\")\n",
    "print(\"Light Neural Network model and predictions saved successfully!\")\n"
   ],
   "metadata": {
    "collapsed": false,
    "ExecuteTime": {
     "end_time": "2024-11-28T18:03:39.454281500Z",
     "start_time": "2024-11-28T18:03:38.267005600Z"
    }
   },
   "id": "984a807f932e574e",
   "execution_count": 25
  },
  {
   "metadata": {},
   "cell_type": "markdown",
   "source": [
    "#### Dense"
   ],
   "id": "916bc24088692393"
  },
  {
   "metadata": {
    "ExecuteTime": {
     "end_time": "2024-11-28T18:03:55.098263600Z",
     "start_time": "2024-11-28T18:03:51.658431500Z"
    }
   },
   "cell_type": "code",
   "source": [
    "class DenseNN(nn.Module):\n",
    "    def __init__(self, input_dim):\n",
    "        super(DenseNN, self).__init__()\n",
    "        self.fc1 = nn.Linear(input_dim, 64)\n",
    "        self.relu1 = nn.ReLU()\n",
    "        self.fc2 = nn.Linear(64, 32)\n",
    "        self.relu2 = nn.ReLU()\n",
    "        self.fc3 = nn.Linear(32, 16)\n",
    "        self.relu3 = nn.ReLU()\n",
    "        self.fc4 = nn.Linear(16, 1)\n",
    "        self.sigmoid = nn.Sigmoid()\n",
    "\n",
    "    def forward(self, x):\n",
    "        x = self.relu1(self.fc1(x))\n",
    "        x = self.relu2(self.fc2(x))\n",
    "        x = self.relu3(self.fc3(x))\n",
    "        x = self.sigmoid(self.fc4(x))\n",
    "        return x\n",
    "\n",
    "model = DenseNN(input_dim)\n",
    "\n",
    "criterion = nn.BCELoss()\n",
    "optimizer = optim.Adam(model.parameters(), lr=0.001)\n",
    "\n",
    "for epoch in range(20):  # Number of epochs\n",
    "    model.train()\n",
    "    optimizer.zero_grad()\n",
    "    outputs = model(X_train_tensor)\n",
    "    loss = criterion(outputs, y_train_tensor)\n",
    "    loss.backward()\n",
    "    optimizer.step()\n",
    "    print(f\"Epoch {epoch+1}, Loss: {loss.item():.4f}\")\n",
    "\n",
    "model.eval()\n",
    "with torch.no_grad():\n",
    "    y_test_pred = model(X_test_tensor).numpy()\n",
    "    y_test_pred = (y_test_pred > 0.5).astype(int)\n",
    "\n",
    "predictions = pd.DataFrame({\"y_true\": y_test, \"y_pred\": y_test_pred.ravel()})\n",
    "predictions.to_csv(\"artifacts/predictions/dense_nn_predictions.csv\", index=False)\n",
    "\n",
    "torch.save(model.state_dict(), \"artifacts/models/dense_nn_model.pth\")\n",
    "print(\"Dense Neural Network model and predictions saved successfully!\")\n"
   ],
   "id": "8d8fd77742322635",
   "outputs": [
    {
     "name": "stdout",
     "output_type": "stream",
     "text": [
      "Epoch 1, Loss: 0.6651\n",
      "Epoch 2, Loss: 0.6584\n",
      "Epoch 3, Loss: 0.6518\n",
      "Epoch 4, Loss: 0.6453\n",
      "Epoch 5, Loss: 0.6388\n",
      "Epoch 6, Loss: 0.6323\n",
      "Epoch 7, Loss: 0.6256\n",
      "Epoch 8, Loss: 0.6188\n",
      "Epoch 9, Loss: 0.6117\n",
      "Epoch 10, Loss: 0.6042\n",
      "Epoch 11, Loss: 0.5964\n",
      "Epoch 12, Loss: 0.5881\n",
      "Epoch 13, Loss: 0.5792\n",
      "Epoch 14, Loss: 0.5699\n",
      "Epoch 15, Loss: 0.5599\n",
      "Epoch 16, Loss: 0.5493\n",
      "Epoch 17, Loss: 0.5382\n",
      "Epoch 18, Loss: 0.5264\n",
      "Epoch 19, Loss: 0.5141\n",
      "Epoch 20, Loss: 0.5012\n",
      "Dense Neural Network model and predictions saved successfully!\n"
     ]
    }
   ],
   "execution_count": 26
  },
  {
   "metadata": {},
   "cell_type": "markdown",
   "source": [
    "#### SMOTE"
   ],
   "id": "f1da0eeecb11557"
  },
  {
   "metadata": {
    "ExecuteTime": {
     "end_time": "2024-11-28T18:11:11.770041100Z",
     "start_time": "2024-11-28T18:11:10.386691800Z"
    }
   },
   "cell_type": "code",
   "outputs": [
    {
     "name": "stdout",
     "output_type": "stream",
     "text": [
      "Epoch 1, Loss: 0.8642\n",
      "Epoch 2, Loss: 0.8481\n",
      "Epoch 3, Loss: 0.8325\n",
      "Epoch 4, Loss: 0.8175\n",
      "Epoch 5, Loss: 0.8030\n",
      "Epoch 6, Loss: 0.7890\n",
      "Epoch 7, Loss: 0.7756\n",
      "Epoch 8, Loss: 0.7628\n",
      "Epoch 9, Loss: 0.7505\n",
      "Epoch 10, Loss: 0.7388\n",
      "Light Neural Network with SMOTE model and predictions saved successfully!\n"
     ]
    }
   ],
   "execution_count": 31,
   "source": [
    "smote = SMOTE(random_state=42)\n",
    "X_train_balanced, y_train_balanced = smote.fit_resample(X_train, y_train)\n",
    "\n",
    "X_train_balanced_tensor = torch.tensor(X_train_balanced, dtype=torch.float32)\n",
    "y_train_balanced_tensor = torch.tensor(y_train_balanced, dtype=torch.float32).view(-1, 1)\n",
    "\n",
    "model = LightNN(input_dim)\n",
    "\n",
    "criterion = nn.BCELoss()\n",
    "optimizer = optim.Adam(model.parameters(), lr=0.001)\n",
    "\n",
    "for epoch in range(10):\n",
    "    model.train()\n",
    "    optimizer.zero_grad()\n",
    "    outputs = model(X_train_balanced_tensor)\n",
    "    loss = criterion(outputs, y_train_balanced_tensor)\n",
    "    loss.backward()\n",
    "    optimizer.step()\n",
    "    print(f\"Epoch {epoch+1}, Loss: {loss.item():.4f}\")\n",
    "\n",
    "model.eval()\n",
    "with torch.no_grad():\n",
    "    y_test_pred = model(X_test_tensor).numpy()\n",
    "    y_test_pred = (y_test_pred > 0.5).astype(int)\n",
    "\n",
    "predictions = pd.DataFrame({\"y_true\": y_test, \"y_pred\": y_test_pred.ravel()})\n",
    "predictions.to_csv(\"artifacts/predictions/light_nn_SMOTE_predictions.csv\", index=False)\n",
    "\n",
    "torch.save(model.state_dict(), \"artifacts/models/light_nn_SMOTE_model.pth\")\n",
    "print(\"Light Neural Network with SMOTE model and predictions saved successfully!\")"
   ],
   "id": "c3bb2ed49d79e84f"
  },
  {
   "metadata": {
    "ExecuteTime": {
     "end_time": "2024-11-28T18:11:25.755199200Z",
     "start_time": "2024-11-28T18:11:22.446897300Z"
    }
   },
   "cell_type": "code",
   "outputs": [
    {
     "name": "stdout",
     "output_type": "stream",
     "text": [
      "Epoch 1, Loss: 0.7143\n",
      "Epoch 2, Loss: 0.7058\n",
      "Epoch 3, Loss: 0.6980\n",
      "Epoch 4, Loss: 0.6915\n",
      "Epoch 5, Loss: 0.6859\n",
      "Epoch 6, Loss: 0.6808\n",
      "Epoch 7, Loss: 0.6755\n",
      "Epoch 8, Loss: 0.6701\n",
      "Epoch 9, Loss: 0.6645\n",
      "Epoch 10, Loss: 0.6587\n",
      "Dense Neural Network with SMOTE model and predictions saved successfully!\n"
     ]
    }
   ],
   "execution_count": 33,
   "source": [
    "smote = SMOTE(random_state=42)\n",
    "X_train_balanced, y_train_balanced = smote.fit_resample(X_train, y_train)\n",
    "\n",
    "X_train_balanced_tensor = torch.tensor(X_train_balanced, dtype=torch.float32)\n",
    "y_train_balanced_tensor = torch.tensor(y_train_balanced, dtype=torch.float32).view(-1, 1)\n",
    "\n",
    "model = DenseNN(input_dim)\n",
    "\n",
    "criterion = nn.BCELoss()\n",
    "optimizer = optim.Adam(model.parameters(), lr=0.001)\n",
    "\n",
    "for epoch in range(10):\n",
    "    model.train()\n",
    "    optimizer.zero_grad()\n",
    "    outputs = model(X_train_balanced_tensor)\n",
    "    loss = criterion(outputs, y_train_balanced_tensor)\n",
    "    loss.backward()\n",
    "    optimizer.step()\n",
    "    print(f\"Epoch {epoch+1}, Loss: {loss.item():.4f}\")\n",
    "\n",
    "model.eval()\n",
    "with torch.no_grad():\n",
    "    y_test_pred = model(X_test_tensor).numpy()\n",
    "    y_test_pred = (y_test_pred > 0.5).astype(int)\n",
    "\n",
    "predictions = pd.DataFrame({\"y_true\": y_test, \"y_pred\": y_test_pred.ravel()})\n",
    "predictions.to_csv(\"artifacts/predictions/dense_nn_SMOTE_predictions.csv\", index=False)\n",
    "\n",
    "torch.save(model.state_dict(), \"artifacts/models/dense_nn_SMOTE_model.pth\")\n",
    "print(\"Dense Neural Network with SMOTE model and predictions saved successfully!\")"
   ],
   "id": "973712e159b1a971"
  },
  {
   "cell_type": "markdown",
   "source": [
    "## Comparing Losses"
   ],
   "metadata": {
    "collapsed": false
   },
   "id": "3c036a829fdf695b"
  },
  {
   "cell_type": "markdown",
   "source": [
    "### Binary Cross Entropy"
   ],
   "metadata": {
    "collapsed": false
   },
   "id": "77ee0e9874c9bbaa"
  },
  {
   "cell_type": "code",
   "outputs": [],
   "source": [],
   "metadata": {
    "collapsed": false
   },
   "id": "8de42ffc983886db",
   "execution_count": null
  },
  {
   "cell_type": "markdown",
   "source": [
    "### Focal Loss"
   ],
   "metadata": {
    "collapsed": false
   },
   "id": "b42fa1a390dff0e0"
  },
  {
   "cell_type": "code",
   "outputs": [],
   "source": [],
   "metadata": {
    "collapsed": false
   },
   "id": "d85b3b34d17ae048",
   "execution_count": null
  },
  {
   "cell_type": "markdown",
   "source": [
    "### Weighted Binary Cross Entropy"
   ],
   "metadata": {
    "collapsed": false
   },
   "id": "e5c8d061f310be04"
  },
  {
   "cell_type": "code",
   "outputs": [],
   "source": [],
   "metadata": {
    "collapsed": false
   },
   "id": "d7c3afe4a37fbbfa",
   "execution_count": null
  },
  {
   "cell_type": "markdown",
   "source": [
    "### ROC-Star"
   ],
   "metadata": {
    "collapsed": false
   },
   "id": "5aaefc59391552d7"
  },
  {
   "cell_type": "code",
   "outputs": [],
   "source": [],
   "metadata": {
    "collapsed": false
   },
   "id": "c8f149a511922fdb",
   "execution_count": null
  },
  {
   "cell_type": "markdown",
   "source": [],
   "metadata": {
    "collapsed": false
   },
   "id": "1678b9d7d9da67a8"
  }
 ],
 "metadata": {
  "kernelspec": {
   "display_name": "Python 3",
   "language": "python",
   "name": "python3"
  },
  "language_info": {
   "codemirror_mode": {
    "name": "ipython",
    "version": 2
   },
   "file_extension": ".py",
   "mimetype": "text/x-python",
   "name": "python",
   "nbconvert_exporter": "python",
   "pygments_lexer": "ipython2",
   "version": "2.7.6"
  }
 },
 "nbformat": 4,
 "nbformat_minor": 5
}
